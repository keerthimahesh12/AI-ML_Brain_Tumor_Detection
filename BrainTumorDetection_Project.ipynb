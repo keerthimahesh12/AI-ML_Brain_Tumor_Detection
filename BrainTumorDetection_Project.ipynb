{
  "nbformat": 4,
  "nbformat_minor": 0,
  "metadata": {
    "colab": {
      "provenance": [],
      "gpuType": "T4"
    },
    "kernelspec": {
      "name": "python3",
      "display_name": "Python 3"
    },
    "language_info": {
      "name": "python"
    },
    "accelerator": "GPU"
  },
  "cells": [
    {
      "cell_type": "markdown",
      "source": [
        "# Brain Tumor Detection\n",
        "\n",
        "[Dataset](https://www.kaggle.com/datasets/navoneel/brain-mri-images-for-brain-tumor-detection)"
      ],
      "metadata": {
        "id": "V7Tv4gbqiHlp"
      }
    },
    {
      "cell_type": "code",
      "execution_count": null,
      "metadata": {
        "id": "pkx2SzFm7dIg"
      },
      "outputs": [],
      "source": [
        "import os\n",
        "import cv2\n",
        "import numpy as np\n",
        "import pathlib\n",
        "from keras.preprocessing.image import ImageDataGenerator, img_to_array, load_img\n",
        "from sklearn.model_selection import train_test_split\n",
        "import imutils\n",
        "\n",
        "# Create the directory structure for augmented data\n",
        "augmented_data_dir = 'augmented_data'\n",
        "os.makedirs(augmented_data_dir, exist_ok=True)\n",
        "yes_dir = os.path.join(augmented_data_dir, 'yes')\n",
        "no_dir = os.path.join(augmented_data_dir, 'no')\n",
        "os.makedirs(yes_dir, exist_ok=True)\n",
        "os.makedirs(no_dir, exist_ok=True)"
      ]
    },
    {
      "cell_type": "code",
      "source": [
        "# Original data paths\n",
        "train_dir = '/content/drive/MyDrive/Data/brain_tumor_dataset'\n",
        "train_dir = pathlib.Path(train_dir)\n",
        "tumor_cells = list(train_dir.glob('yes/*'))\n",
        "normal_cells = list(train_dir.glob('no/*'))\n",
        "\n",
        "df_images = {\n",
        "    'Tumor': tumor_cells,\n",
        "    'Normal': normal_cells\n",
        "}\n",
        "\n",
        "df_labels = {\n",
        "    'Tumor': 0,\n",
        "    'Normal': 1\n",
        "}"
      ],
      "metadata": {
        "id": "wfANp_pe7tRQ"
      },
      "execution_count": null,
      "outputs": []
    },
    {
      "cell_type": "markdown",
      "source": [
        "## Preprocessing Steps -\n",
        "* Augmentation\n",
        "* Standardization\n",
        "* Resizing"
      ],
      "metadata": {
        "id": "7vU-7AZ7j0Wx"
      }
    },
    {
      "cell_type": "code",
      "source": [
        "# Data augmentation generator\n",
        "datagen = ImageDataGenerator(\n",
        "    rotation_range=40,\n",
        "    shear_range=0.2,\n",
        "    zoom_range=0.2,\n",
        "    horizontal_flip=True,\n",
        "    brightness_range=(0.5, 1.5)\n",
        ")\n"
      ],
      "metadata": {
        "id": "x7L3Wmqt7xbW"
      },
      "execution_count": null,
      "outputs": []
    },
    {
      "cell_type": "code",
      "source": [
        "# Function to save augmented images\n",
        "def save_augmented_images(label, images, save_dir, augment_size=7):\n",
        "    for image_path in images:\n",
        "        img = load_img(image_path)\n",
        "        x = img_to_array(img)\n",
        "        x = x.reshape((1,) + x.shape)\n",
        "\n",
        "        # Generate augmented images and save them\n",
        "        i = 0\n",
        "        for batch in datagen.flow(x, batch_size=1, save_to_dir=save_dir, save_prefix=label, save_format='jpg'):\n",
        "            i += 1\n",
        "            if i >= augment_size:\n",
        "                break\n"
      ],
      "metadata": {
        "id": "I_xpWnc879Sb"
      },
      "execution_count": null,
      "outputs": []
    },
    {
      "cell_type": "code",
      "source": [
        "# Apply augmentation and save images\n",
        "save_augmented_images('Tumor', tumor_cells, yes_dir, augment_size=7)\n",
        "save_augmented_images('Normal', normal_cells, no_dir, augment_size=7)"
      ],
      "metadata": {
        "id": "Jctiox048B4a"
      },
      "execution_count": null,
      "outputs": []
    },
    {
      "cell_type": "code",
      "source": [
        "# Load original and augmented images\n",
        "def load_images_and_labels(df_images, df_labels, augmented_data_dir):\n",
        "    X, y = [], [] # X = images, y = labels\n",
        "\n",
        "    # Load original images\n",
        "    for label, images in df_images.items():\n",
        "        for image in images:\n",
        "            img = cv2.imread(str(image))\n",
        "            #new_img = crop_img(img)\n",
        "            resized_img = cv2.resize(img, (224, 224)) # Resizing the images\n",
        "            X.append(resized_img)\n",
        "            y.append(df_labels[label])\n",
        "\n",
        "    # Load augmented images\n",
        "    for label, folder in zip(['Tumor', 'Normal'], ['yes', 'no']):\n",
        "        augmented_images_dir = os.path.join(augmented_data_dir, folder)\n",
        "        augmented_images = list(pathlib.Path(augmented_images_dir).glob('*.jpg'))\n",
        "        for image in augmented_images:\n",
        "            img = cv2.imread(str(image))\n",
        "            #cropped_img = crop_img(img)\n",
        "            resized_img = cv2.resize(img, (224, 224))  # Resizing the images\n",
        "            X.append(resized_img)\n",
        "            y.append(df_labels[label])\n",
        "\n",
        "    return np.array(X), np.array(y)\n"
      ],
      "metadata": {
        "id": "SFI2ZGYz8Fcq"
      },
      "execution_count": null,
      "outputs": []
    },
    {
      "cell_type": "code",
      "source": [
        "# Load images and labels\n",
        "X, y = load_images_and_labels(df_images, df_labels, augmented_data_dir)"
      ],
      "metadata": {
        "id": "KaQMZCuI8mx6"
      },
      "execution_count": null,
      "outputs": []
    },
    {
      "cell_type": "code",
      "source": [
        "import numpy as np\n",
        "\n",
        "np.unique(y)"
      ],
      "metadata": {
        "colab": {
          "base_uri": "https://localhost:8080/"
        },
        "id": "XUUoCXuq7qvw",
        "outputId": "a7a9aacd-964e-4b0f-d5fd-bd0d76eabd94"
      },
      "execution_count": null,
      "outputs": [
        {
          "output_type": "execute_result",
          "data": {
            "text/plain": [
              "array([0, 1])"
            ]
          },
          "metadata": {},
          "execution_count": 9
        }
      ]
    },
    {
      "cell_type": "code",
      "source": [
        "print(len(X))"
      ],
      "metadata": {
        "colab": {
          "base_uri": "https://localhost:8080/"
        },
        "id": "wAn_w6L78qWz",
        "outputId": "a78be50c-505d-4049-dafb-631ed1870c1d"
      },
      "execution_count": null,
      "outputs": [
        {
          "output_type": "stream",
          "name": "stdout",
          "text": [
            "1943\n"
          ]
        }
      ]
    },
    {
      "cell_type": "code",
      "source": [
        "# Standardizing\n",
        "X = X / 255.0"
      ],
      "metadata": {
        "id": "kTaIsHsm8sVu"
      },
      "execution_count": null,
      "outputs": []
    },
    {
      "cell_type": "code",
      "source": [
        "import matplotlib.pyplot as plt\n",
        "plt.imshow(X[2])"
      ],
      "metadata": {
        "colab": {
          "base_uri": "https://localhost:8080/",
          "height": 472
        },
        "id": "w73Y9-gyJyIQ",
        "outputId": "ce6db3fa-1ea8-4605-8787-0d4468b46f00"
      },
      "execution_count": null,
      "outputs": [
        {
          "output_type": "execute_result",
          "data": {
            "text/plain": [
              "<matplotlib.image.AxesImage at 0x7b344c5b37f0>"
            ]
          },
          "metadata": {},
          "execution_count": 12
        },
        {
          "output_type": "display_data",
          "data": {
            "text/plain": [
              "<Figure size 640x480 with 1 Axes>"
            ],
            "image/png": "[encoded data removed]"
          },
          "metadata": {}
        }
      ]
    },
    {
      "cell_type": "code",
      "source": [
        "from sklearn.model_selection import train_test_split\n",
        "\n",
        "# Initial split into training and testing sets\n",
        "X_train_full, X_test, y_train_full, y_test = train_test_split(X, y, test_size=0.2, random_state=42)\n",
        "\n",
        "# Further split the training set into training and validation sets\n",
        "X_train, X_val, y_train, y_val = train_test_split(X_train_full, y_train_full, test_size=0.25, random_state=42)  # 0.25 * 0.8 = 0.2\n",
        "\n",
        "print(\"Training set size:\", X_train.shape)\n",
        "print(\"Validation set size:\", X_val.shape)\n",
        "print(\"Test set size:\", X_test.shape)\n"
      ],
      "metadata": {
        "colab": {
          "base_uri": "https://localhost:8080/"
        },
        "id": "CMIpD8PeTRPt",
        "outputId": "7a3fb5b9-c205-49b5-d070-3a721b3ea5af"
      },
      "execution_count": null,
      "outputs": [
        {
          "output_type": "stream",
          "name": "stdout",
          "text": [
            "Training set size: (1165, 224, 224, 3)\n",
            "Validation set size: (389, 224, 224, 3)\n",
            "Test set size: (389, 224, 224, 3)\n"
          ]
        }
      ]
    },
    {
      "cell_type": "markdown",
      "source": [
        "# Sequential Model with VGG16 base\n"
      ],
      "metadata": {
        "id": "SvNUnleOpuOE"
      }
    },
    {
      "cell_type": "code",
      "source": [
        "import tensorflow\n",
        "from tensorflow.keras import models,layers\n",
        "from keras.models import Sequential\n",
        "from keras.layers import Dense, Flatten, Dropout, Conv2D, MaxPooling2D\n",
        "from tensorflow.keras.applications import VGG16\n",
        "from tensorflow.keras.optimizers import Adam"
      ],
      "metadata": {
        "id": "xm1maGhf8-WR"
      },
      "execution_count": null,
      "outputs": []
    },
    {
      "cell_type": "code",
      "source": [
        "# Load pre-trained VGG16 model without including the top (classification) layers\n",
        "base_model = VGG16(weights='imagenet', include_top=False, input_shape=(224, 224, 3))"
      ],
      "metadata": {
        "id": "Sqtkh_fk9GYW",
        "colab": {
          "base_uri": "https://localhost:8080/"
        },
        "outputId": "84ca9cec-b123-405d-b90e-98290baa80dd"
      },
      "execution_count": null,
      "outputs": [
        {
          "output_type": "stream",
          "name": "stdout",
          "text": [
            "Downloading data from https://storage.googleapis.com/tensorflow/keras-applications/vgg16/vgg16_weights_tf_dim_ordering_tf_kernels_notop.h5\n",
            "58889256/58889256 [==============================] - 4s 0us/step\n"
          ]
        }
      ]
    },
    {
      "cell_type": "code",
      "source": [
        "# Freeze the layers in the base model (optional)\n",
        "for layer in base_model.layers:\n",
        "    layer.trainable = False"
      ],
      "metadata": {
        "id": "SVwdrn3E9IzK"
      },
      "execution_count": null,
      "outputs": []
    },
    {
      "cell_type": "code",
      "source": [
        "# Create a new model on top of the VGG16 base\n",
        "model = Sequential()\n",
        "model.add(base_model)\n",
        "model.add(Flatten())\n",
        "model.add(Dense(512, activation='relu'))\n",
        "model.add(Dropout(0.3))\n",
        "model.add(Dense(128,activation='relu'))\n",
        "model.add(Dense(64,activation='relu'))\n",
        "model.add(Dense(1, activation='sigmoid'))"
      ],
      "metadata": {
        "id": "6_Dy9ZLz9O6V"
      },
      "execution_count": null,
      "outputs": []
    },
    {
      "cell_type": "code",
      "source": [
        "# Compile the model\n",
        "model.compile(optimizer=Adam(), loss='binary_crossentropy', metrics=['accuracy'])"
      ],
      "metadata": {
        "id": "1chnJVoMUK4e"
      },
      "execution_count": null,
      "outputs": []
    },
    {
      "cell_type": "code",
      "source": [
        "# Print model summary\n",
        "model.summary()"
      ],
      "metadata": {
        "colab": {
          "base_uri": "https://localhost:8080/"
        },
        "id": "OtaPRayFUSwH",
        "outputId": "5231fd29-ca6f-464e-ccb1-1616cf831cfc"
      },
      "execution_count": null,
      "outputs": [
        {
          "output_type": "stream",
          "name": "stdout",
          "text": [
            "Model: \"sequential\"\n",
            "_________________________________________________________________\n",
            " Layer (type)                Output Shape              Param #   \n",
            "=================================================================\n",
            " vgg16 (Functional)          (None, 7, 7, 512)         14714688  \n",
            "                                                                 \n",
            " flatten (Flatten)           (None, 25088)             0         \n",
            "                                                                 \n",
            " dense (Dense)               (None, 512)               12845568  \n",
            "                                                                 \n",
            " dropout (Dropout)           (None, 512)               0         \n",
            "                                                                 \n",
            " dense_1 (Dense)             (None, 128)               65664     \n",
            "                                                                 \n",
            " dense_2 (Dense)             (None, 64)                8256      \n",
            "                                                                 \n",
            " dense_3 (Dense)             (None, 1)                 65        \n",
            "                                                                 \n",
            "=================================================================\n",
            "Total params: 27634241 (105.42 MB)\n",
            "Trainable params: 12919553 (49.28 MB)\n",
            "Non-trainable params: 14714688 (56.13 MB)\n",
            "_________________________________________________________________\n"
          ]
        }
      ]
    },
    {
      "cell_type": "code",
      "source": [
        "# Fit the model with validation data\n",
        "history = model.fit(\n",
        "    X_train,\n",
        "    y_train,\n",
        "    epochs=10,\n",
        "    batch_size=32,\n",
        "    validation_data=(X_val, y_val)\n",
        ")"
      ],
      "metadata": {
        "colab": {
          "base_uri": "https://localhost:8080/"
        },
        "id": "5ij5WExKU02v",
        "outputId": "8440950c-6ce3-4805-9ad5-253d06472300"
      },
      "execution_count": null,
      "outputs": [
        {
          "output_type": "stream",
          "name": "stdout",
          "text": [
            "Epoch 1/10\n",
            "37/37 [==============================] - 23s 294ms/step - loss: 0.7091 - accuracy: 0.6977 - val_loss: 0.9931 - val_accuracy: 0.5530\n",
            "Epoch 2/10\n",
            "37/37 [==============================] - 7s 193ms/step - loss: 0.4904 - accuracy: 0.7735 - val_loss: 0.3903 - val_accuracy: 0.8062\n",
            "Epoch 3/10\n",
            "37/37 [==============================] - 7s 191ms/step - loss: 0.2799 - accuracy: 0.8794 - val_loss: 0.2390 - val_accuracy: 0.9096\n",
            "Epoch 4/10\n",
            "37/37 [==============================] - 7s 195ms/step - loss: 0.2105 - accuracy: 0.9061 - val_loss: 0.2284 - val_accuracy: 0.9018\n",
            "Epoch 5/10\n",
            "37/37 [==============================] - 6s 161ms/step - loss: 0.1373 - accuracy: 0.9518 - val_loss: 0.1891 - val_accuracy: 0.9251\n",
            "Epoch 6/10\n",
            "37/37 [==============================] - 6s 169ms/step - loss: 0.0965 - accuracy: 0.9612 - val_loss: 0.3150 - val_accuracy: 0.8786\n",
            "Epoch 7/10\n",
            "37/37 [==============================] - 7s 194ms/step - loss: 0.0536 - accuracy: 0.9819 - val_loss: 0.2247 - val_accuracy: 0.9173\n",
            "Epoch 8/10\n",
            "37/37 [==============================] - 6s 168ms/step - loss: 0.0606 - accuracy: 0.9759 - val_loss: 0.3254 - val_accuracy: 0.8941\n",
            "Epoch 9/10\n",
            "37/37 [==============================] - 6s 165ms/step - loss: 0.0803 - accuracy: 0.9655 - val_loss: 0.2396 - val_accuracy: 0.9121\n",
            "Epoch 10/10\n",
            "37/37 [==============================] - 7s 201ms/step - loss: 0.0372 - accuracy: 0.9836 - val_loss: 0.1844 - val_accuracy: 0.9483\n"
          ]
        }
      ]
    },
    {
      "cell_type": "code",
      "source": [
        "# Evaluate the model on the test set\n",
        "test_loss, test_accuracy = model.evaluate(X_test, y_test)\n",
        "\n",
        "print(f\"Test Loss: {test_loss}\")\n",
        "print(f\"Test Accuracy: {test_accuracy}\")"
      ],
      "metadata": {
        "colab": {
          "base_uri": "https://localhost:8080/"
        },
        "id": "rFZTw_oKVA7v",
        "outputId": "1b6b7623-4c3a-4003-8bf1-febf1b49f0c3"
      },
      "execution_count": null,
      "outputs": [
        {
          "output_type": "stream",
          "name": "stdout",
          "text": [
            "13/13 [==============================] - 2s 118ms/step - loss: 0.1284 - accuracy: 0.9457\n",
            "Test Loss: 0.12836425006389618\n",
            "Test Accuracy: 0.9457364082336426\n"
          ]
        }
      ]
    },
    {
      "cell_type": "code",
      "source": [
        "# Load and preprocess the image\n",
        "def preprocess_image(image_path):\n",
        "    img = cv2.imread(image_path)\n",
        "    cropped_img = crop_img(img)\n",
        "    resized_img = cv2.resize(cropped_img, (224, 224))\n",
        "    normalized_img = resized_img / 255.0  # Normalize to [0, 1] range\n",
        "    return normalized_img\n",
        "\n",
        "# Function to classify the image\n",
        "def classify_image(image_path):\n",
        "    preprocessed_img = preprocess_image(image_path)\n",
        "    input_img = np.expand_dims(preprocessed_img, axis=0)  # Add batch dimension\n",
        "    prediction = model.predict(input_img)\n",
        "    if prediction[0] < 0.5:\n",
        "        print(prediction)\n",
        "        return 'tumor'\n",
        "    else:\n",
        "        print(prediction)\n",
        "        return 'normal'"
      ],
      "metadata": {
        "id": "0fcDhU18LpDX"
      },
      "execution_count": null,
      "outputs": []
    },
    {
      "cell_type": "code",
      "source": [
        "img3 = '/content/Y10.jpg'\n",
        "result = classify_image(img3)\n",
        "print(f\"The image is classified as: {result}\")"
      ],
      "metadata": {
        "colab": {
          "base_uri": "https://localhost:8080/"
        },
        "id": "GHpg0AH545DI",
        "outputId": "5b25103a-8e78-41e8-f91b-6f18873c3701"
      },
      "execution_count": null,
      "outputs": [
        {
          "output_type": "stream",
          "name": "stdout",
          "text": [
            "1/1 [==============================] - 0s 22ms/step\n",
            "[[0.0001875]]\n",
            "The image is classified as: tumor\n"
          ]
        }
      ]
    },
    {
      "cell_type": "code",
      "source": [
        "img1 = '/content/y703.jpg'\n",
        "result = classify_image(img1)\n",
        "print(f\"The image is classified as: {result}\")"
      ],
      "metadata": {
        "colab": {
          "base_uri": "https://localhost:8080/"
        },
        "id": "oj1Q7yrFL6Az",
        "outputId": "82565e34-d840-477b-fce3-2f360551bdf7"
      },
      "execution_count": null,
      "outputs": [
        {
          "output_type": "stream",
          "name": "stdout",
          "text": [
            "1/1 [==============================] - 1s 1s/step\n",
            "[[0.97614187]]\n",
            "The image is classified as: normal\n"
          ]
        }
      ]
    },
    {
      "cell_type": "code",
      "source": [
        "img2 ='/content/Te-no_0017.jpg'\n",
        "result = classify_image(img2)\n",
        "print(f\"The image is classified as: {result}\")"
      ],
      "metadata": {
        "colab": {
          "base_uri": "https://localhost:8080/"
        },
        "id": "OW29NKKWMBg4",
        "outputId": "7f8fc3bb-df1e-4e88-cd3e-7de0ad130fb7"
      },
      "execution_count": null,
      "outputs": [
        {
          "output_type": "stream",
          "name": "stdout",
          "text": [
            "1/1 [==============================] - 0s 18ms/step\n",
            "[[0.64541507]]\n",
            "The image is classified as: normal\n"
          ]
        }
      ]
    },
    {
      "cell_type": "code",
      "source": [
        "img3 ='/content/Te-no_0015.jpg'\n",
        "result = classify_image(img3)\n",
        "print(f\"The image is classified as: {result}\")"
      ],
      "metadata": {
        "colab": {
          "base_uri": "https://localhost:8080/"
        },
        "id": "DQcB2lB4MH9Q",
        "outputId": "00e7740f-3f43-4a83-c520-e7288c87085d"
      },
      "execution_count": null,
      "outputs": [
        {
          "output_type": "stream",
          "name": "stdout",
          "text": [
            "1/1 [==============================] - 0s 27ms/step\n",
            "[[0.00210878]]\n",
            "The image is classified as: normal\n"
          ]
        }
      ]
    },
    {
      "cell_type": "markdown",
      "source": [
        "# Sequential Model with ResNet50 base"
      ],
      "metadata": {
        "id": "GkvledjPM4t2"
      }
    },
    {
      "cell_type": "code",
      "source": [
        "from keras.applications.resnet import ResNet50\n",
        "\n",
        "resmodel= ResNet50(weights='imagenet', include_top=False, input_shape = (224,224,3))\n",
        "\n",
        "base_model_2 = resmodel"
      ],
      "metadata": {
        "colab": {
          "base_uri": "https://localhost:8080/"
        },
        "id": "xuPOt3t1M7Sg",
        "outputId": "166bc7b6-58a8-49d9-fc6d-0b8a0ec5f3c2"
      },
      "execution_count": null,
      "outputs": [
        {
          "output_type": "stream",
          "name": "stdout",
          "text": [
            "Downloading data from https://storage.googleapis.com/tensorflow/keras-applications/resnet/resnet50_weights_tf_dim_ordering_tf_kernels_notop.h5\n",
            "94765736/94765736 [==============================] - 5s 0us/step\n"
          ]
        }
      ]
    },
    {
      "cell_type": "code",
      "source": [
        "# Freeze the layers in the base model (optional)\n",
        "for layer in base_model_2.layers:\n",
        "    layer.trainable = False\n",
        "\n",
        "# Create a new model on top of the VGG16 base\n",
        "model2 = Sequential()\n",
        "model2.add(base_model_2)\n",
        "model2.add(Flatten())\n",
        "model2.add(Dense(512, activation='relu'))\n",
        "model2.add(Dropout(0.3))\n",
        "model2.add(Dense(128,activation='relu'))\n",
        "model2.add(Dense(64,activation='relu'))\n",
        "model2.add(Dense(1, activation='sigmoid'))\n",
        "\n",
        "# Compile the model\n",
        "model2.compile(optimizer=Adam(), loss='binary_crossentropy', metrics=['accuracy'])\n",
        "\n",
        "model2.summary()"
      ],
      "metadata": {
        "colab": {
          "base_uri": "https://localhost:8080/"
        },
        "id": "Fhapf1ThNMBF",
        "outputId": "76bbba0c-49f6-4200-983e-18bc74a91168"
      },
      "execution_count": null,
      "outputs": [
        {
          "output_type": "stream",
          "name": "stdout",
          "text": [
            "Model: \"sequential_1\"\n",
            "_________________________________________________________________\n",
            " Layer (type)                Output Shape              Param #   \n",
            "=================================================================\n",
            " resnet50 (Functional)       (None, 7, 7, 2048)        23587712  \n",
            "                                                                 \n",
            " flatten_1 (Flatten)         (None, 100352)            0         \n",
            "                                                                 \n",
            " dense_4 (Dense)             (None, 512)               51380736  \n",
            "                                                                 \n",
            " dropout_1 (Dropout)         (None, 512)               0         \n",
            "                                                                 \n",
            " dense_5 (Dense)             (None, 128)               65664     \n",
            "                                                                 \n",
            " dense_6 (Dense)             (None, 64)                8256      \n",
            "                                                                 \n",
            " dense_7 (Dense)             (None, 1)                 65        \n",
            "                                                                 \n",
            "=================================================================\n",
            "Total params: 75042433 (286.26 MB)\n",
            "Trainable params: 51454721 (196.28 MB)\n",
            "Non-trainable params: 23587712 (89.98 MB)\n",
            "_________________________________________________________________\n"
          ]
        }
      ]
    },
    {
      "cell_type": "code",
      "source": [
        "# Fit the model with validation data\n",
        "history = model2.fit(\n",
        "    X_train,\n",
        "    y_train,\n",
        "    epochs=10,\n",
        "    batch_size=32,\n",
        "    validation_data=(X_val, y_val)\n",
        ")"
      ],
      "metadata": {
        "id": "E62uYjhxNj7I",
        "colab": {
          "base_uri": "https://localhost:8080/"
        },
        "outputId": "f610cb08-0fdd-4630-9cb5-dda1b8a407ed"
      },
      "execution_count": null,
      "outputs": [
        {
          "output_type": "stream",
          "name": "stdout",
          "text": [
            "Epoch 1/10\n",
            "37/37 [==============================] - 18s 264ms/step - loss: 1.7148 - accuracy: 0.5719 - val_loss: 0.7953 - val_accuracy: 0.5995\n",
            "Epoch 2/10\n",
            "37/37 [==============================] - 5s 141ms/step - loss: 0.9887 - accuracy: 0.6133 - val_loss: 0.5527 - val_accuracy: 0.7003\n",
            "Epoch 3/10\n",
            "37/37 [==============================] - 5s 141ms/step - loss: 0.7289 - accuracy: 0.6400 - val_loss: 0.5629 - val_accuracy: 0.7313\n",
            "Epoch 4/10\n",
            "37/37 [==============================] - 5s 143ms/step - loss: 0.6428 - accuracy: 0.6675 - val_loss: 0.5111 - val_accuracy: 0.7623\n",
            "Epoch 5/10\n",
            "37/37 [==============================] - 5s 137ms/step - loss: 0.6195 - accuracy: 0.6770 - val_loss: 0.5117 - val_accuracy: 0.7752\n",
            "Epoch 6/10\n",
            "37/37 [==============================] - 5s 144ms/step - loss: 0.5973 - accuracy: 0.6873 - val_loss: 0.6688 - val_accuracy: 0.6072\n",
            "Epoch 7/10\n",
            "37/37 [==============================] - 5s 142ms/step - loss: 0.5862 - accuracy: 0.7063 - val_loss: 0.5054 - val_accuracy: 0.7700\n",
            "Epoch 8/10\n",
            "37/37 [==============================] - 5s 141ms/step - loss: 0.5526 - accuracy: 0.7089 - val_loss: 0.4982 - val_accuracy: 0.7597\n",
            "Epoch 9/10\n",
            "37/37 [==============================] - 5s 146ms/step - loss: 0.5702 - accuracy: 0.7201 - val_loss: 0.5014 - val_accuracy: 0.7700\n",
            "Epoch 10/10\n",
            "37/37 [==============================] - 5s 142ms/step - loss: 0.5120 - accuracy: 0.7425 - val_loss: 0.5075 - val_accuracy: 0.7468\n"
          ]
        }
      ]
    },
    {
      "cell_type": "code",
      "source": [
        "# Evaluate the model on the test set\n",
        "test_loss2, test_accuracy2 = model2.evaluate(X_test, y_test)\n",
        "\n",
        "print(f\"Test Loss: {test_loss2}\")\n",
        "print(f\"Test Accuracy: {test_accuracy2}\")"
      ],
      "metadata": {
        "colab": {
          "base_uri": "https://localhost:8080/"
        },
        "id": "Hkqzpy-fN6x6",
        "outputId": "6b0be2de-6742-407d-8163-2536a61558ee"
      },
      "execution_count": null,
      "outputs": [
        {
          "output_type": "stream",
          "name": "stdout",
          "text": [
            "13/13 [==============================] - 1s 92ms/step - loss: 0.5426 - accuracy: 0.7183\n",
            "Test Loss: 0.5426053404808044\n",
            "Test Accuracy: 0.7183462381362915\n"
          ]
        }
      ]
    },
    {
      "cell_type": "markdown",
      "source": [
        "# CNN"
      ],
      "metadata": {
        "id": "o4RcrpivOixd"
      }
    },
    {
      "cell_type": "code",
      "source": [
        "import tensorflow.keras.backend as K\n",
        "\n",
        "# Clear previous sessions and models\n",
        "#K.clear_session()\n",
        "\n",
        "\n",
        "# defining 3rd model architecture\n",
        "\n",
        "model3 = Sequential()\n",
        "model3.add(Conv2D(filters=16, kernel_size=(3, 3), activation=\"relu\", kernel_initializer=\"he_uniform\", padding=\"same\", input_shape=(224, 224, 3)))\n",
        "model3.add(MaxPooling2D(pool_size=(2, 2)))\n",
        "model3.add(Conv2D(filters=32, kernel_size=(3, 3), activation=\"relu\", kernel_initializer=\"he_uniform\", padding=\"same\"))\n",
        "model3.add(MaxPooling2D(pool_size=(2, 2)))\n",
        "model3.add(Conv2D(filters=64, kernel_size=(3, 3), activation=\"relu\", kernel_initializer=\"he_uniform\", padding=\"same\"))\n",
        "model3.add(MaxPooling2D(pool_size=(2, 2)))\n",
        "model3.add(Flatten())\n",
        "model3.add(Dense(units=128, activation=\"relu\", kernel_initializer=\"he_uniform\"))\n",
        "model3.add(Dense(units=1, activation=\"sigmoid\"))\n",
        "\n",
        "# compile the model\n",
        "model3.compile(optimizer=\"adam\",loss=\"binary_crossentropy\",metrics=[\"accuracy\"])\n",
        "\n",
        "model3.summary()"
      ],
      "metadata": {
        "colab": {
          "base_uri": "https://localhost:8080/"
        },
        "id": "ML02HKOMTfwg",
        "outputId": "9eb0d2ae-9005-4e47-e92b-f1716bb75695"
      },
      "execution_count": null,
      "outputs": [
        {
          "output_type": "stream",
          "name": "stdout",
          "text": [
            "Model: \"sequential\"\n",
            "_________________________________________________________________\n",
            " Layer (type)                Output Shape              Param #   \n",
            "=================================================================\n",
            " conv2d (Conv2D)             (None, 224, 224, 16)      448       \n",
            "                                                                 \n",
            " max_pooling2d (MaxPooling2  (None, 112, 112, 16)      0         \n",
            " D)                                                              \n",
            "                                                                 \n",
            " conv2d_1 (Conv2D)           (None, 112, 112, 32)      4640      \n",
            "                                                                 \n",
            " max_pooling2d_1 (MaxPoolin  (None, 56, 56, 32)        0         \n",
            " g2D)                                                            \n",
            "                                                                 \n",
            " conv2d_2 (Conv2D)           (None, 56, 56, 64)        18496     \n",
            "                                                                 \n",
            " max_pooling2d_2 (MaxPoolin  (None, 28, 28, 64)        0         \n",
            " g2D)                                                            \n",
            "                                                                 \n",
            " flatten (Flatten)           (None, 50176)             0         \n",
            "                                                                 \n",
            " dense (Dense)               (None, 128)               6422656   \n",
            "                                                                 \n",
            " dense_1 (Dense)             (None, 1)                 129       \n",
            "                                                                 \n",
            "=================================================================\n",
            "Total params: 6446369 (24.59 MB)\n",
            "Trainable params: 6446369 (24.59 MB)\n",
            "Non-trainable params: 0 (0.00 Byte)\n",
            "_________________________________________________________________\n"
          ]
        }
      ]
    },
    {
      "cell_type": "code",
      "source": [
        "# Fit the model with validation data\n",
        "history3 = model3.fit(\n",
        "    X_train,\n",
        "    y_train,\n",
        "    epochs=10,\n",
        "    batch_size=32,\n",
        "    validation_data=(X_val, y_val)\n",
        ")"
      ],
      "metadata": {
        "id": "28sMaE8U9VCO",
        "colab": {
          "base_uri": "https://localhost:8080/"
        },
        "outputId": "157bf4e6-6cba-45af-8d0a-66fe7e9c0c30"
      },
      "execution_count": null,
      "outputs": [
        {
          "output_type": "stream",
          "name": "stdout",
          "text": [
            "Epoch 1/10\n",
            "37/37 [==============================] - 10s 77ms/step - loss: 2.2988 - accuracy: 0.6417 - val_loss: 0.6983 - val_accuracy: 0.5375\n",
            "Epoch 2/10\n",
            "37/37 [==============================] - 1s 39ms/step - loss: 0.5242 - accuracy: 0.7476 - val_loss: 0.5624 - val_accuracy: 0.7339\n",
            "Epoch 3/10\n",
            "37/37 [==============================] - 1s 35ms/step - loss: 0.4066 - accuracy: 0.8346 - val_loss: 0.5393 - val_accuracy: 0.7674\n",
            "Epoch 4/10\n",
            "37/37 [==============================] - 1s 39ms/step - loss: 0.2606 - accuracy: 0.8992 - val_loss: 0.5607 - val_accuracy: 0.7778\n",
            "Epoch 5/10\n",
            "37/37 [==============================] - 1s 41ms/step - loss: 0.1457 - accuracy: 0.9526 - val_loss: 0.6744 - val_accuracy: 0.7700\n",
            "Epoch 6/10\n",
            "37/37 [==============================] - 2s 43ms/step - loss: 0.0771 - accuracy: 0.9828 - val_loss: 0.7676 - val_accuracy: 0.7752\n",
            "Epoch 7/10\n",
            "37/37 [==============================] - 2s 45ms/step - loss: 0.0439 - accuracy: 0.9871 - val_loss: 0.8342 - val_accuracy: 0.7984\n",
            "Epoch 8/10\n",
            "37/37 [==============================] - 1s 37ms/step - loss: 0.0145 - accuracy: 0.9983 - val_loss: 0.9202 - val_accuracy: 0.7959\n",
            "Epoch 9/10\n",
            "37/37 [==============================] - 1s 40ms/step - loss: 0.0062 - accuracy: 1.0000 - val_loss: 0.9267 - val_accuracy: 0.8036\n",
            "Epoch 10/10\n",
            "37/37 [==============================] - 1s 39ms/step - loss: 0.0027 - accuracy: 1.0000 - val_loss: 0.9974 - val_accuracy: 0.8010\n"
          ]
        }
      ]
    },
    {
      "cell_type": "code",
      "source": [
        "# Evaluate the model on the test set\n",
        "test_loss3, test_accuracy3 = model3.evaluate(X_test, y_test)\n",
        "\n",
        "print(f\"Test Loss: {test_loss3}\")\n",
        "print(f\"Test Accuracy: {test_accuracy3}\")"
      ],
      "metadata": {
        "colab": {
          "base_uri": "https://localhost:8080/"
        },
        "id": "zct_eDUJ9ZFs",
        "outputId": "0e80d42f-2211-41ab-ba85-7ed6b158c131"
      },
      "execution_count": null,
      "outputs": [
        {
          "output_type": "stream",
          "name": "stdout",
          "text": [
            "13/13 [==============================] - 0s 19ms/step - loss: 1.0178 - accuracy: 0.7907\n",
            "Test Loss: 1.01779043674469\n",
            "Test Accuracy: 0.7906976938247681\n"
          ]
        }
      ]
    },
    {
      "cell_type": "code",
      "source": [
        "# Load and preprocess the image\n",
        "def preprocess_image(image_path):\n",
        "    img = cv2.imread(image_path)\n",
        "    cropped_img = crop_img(img)\n",
        "    resized_img = cv2.resize(cropped_img, (224, 224))\n",
        "    normalized_img = resized_img / 255.0  # Normalize to [0, 1] range\n",
        "    return normalized_img\n",
        "\n"
      ],
      "metadata": {
        "id": "jzRZknO9Hysn"
      },
      "execution_count": null,
      "outputs": []
    },
    {
      "cell_type": "code",
      "source": [
        "# Function to classify the image\n",
        "def classify_image(image_path):\n",
        "    preprocessed_img = preprocess_image(image_path)\n",
        "    input_img = np.expand_dims(preprocessed_img, axis=0)  # Add batch dimension\n",
        "    prediction = model3.predict(input_img)\n",
        "    if prediction[0] < 0.5:\n",
        "        print(prediction)\n",
        "        return 'tumor'\n",
        "    else:\n",
        "        print(prediction)\n",
        "        return 'normal'"
      ],
      "metadata": {
        "id": "azUxxs3uH1p1"
      },
      "execution_count": null,
      "outputs": []
    },
    {
      "cell_type": "code",
      "source": [
        "img1 = '/content/y703.jpg'\n",
        "result = classify_image(img1)\n",
        "print(f\"The image is classified as: {result}\")"
      ],
      "metadata": {
        "colab": {
          "base_uri": "https://localhost:8080/"
        },
        "id": "jxPDwI6GHXkv",
        "outputId": "1884c88d-79e5-4563-9094-24ec14438e71"
      },
      "execution_count": null,
      "outputs": [
        {
          "output_type": "stream",
          "name": "stdout",
          "text": [
            "1/1 [==============================] - 0s 17ms/step\n",
            "[[0.9419334]]\n",
            "The image is classified as: tumor\n"
          ]
        }
      ]
    },
    {
      "cell_type": "code",
      "source": [
        "img2 ='/content/Te-no_0017.jpg'\n",
        "result = classify_image(img2)\n",
        "print(f\"The image is classified as: {result}\")"
      ],
      "metadata": {
        "colab": {
          "base_uri": "https://localhost:8080/"
        },
        "id": "ZLPOrA2gIek0",
        "outputId": "5df11709-996c-4da8-d73e-82d61df2721d"
      },
      "execution_count": null,
      "outputs": [
        {
          "output_type": "stream",
          "name": "stdout",
          "text": [
            "1/1 [==============================] - 0s 17ms/step\n",
            "[[0.5652458]]\n",
            "The image is classified as: tumor\n"
          ]
        }
      ]
    },
    {
      "cell_type": "markdown",
      "source": [
        "# Sequential Model with MobileNet base"
      ],
      "metadata": {
        "id": "qPesEVKiskvp"
      }
    },
    {
      "cell_type": "code",
      "source": [
        "from keras.applications.mobilenet import MobileNet\n",
        "\n",
        "# Load the MobileNet model\n",
        "mobilenet = MobileNet(weights='imagenet', include_top=False, input_shape=(224,224,3))\n",
        "\n",
        "base_model_4 = mobilenet"
      ],
      "metadata": {
        "id": "6wx2RqPnqmAE",
        "colab": {
          "base_uri": "https://localhost:8080/"
        },
        "outputId": "5dd2eacc-6ceb-4f3a-f61f-fc30c996f581"
      },
      "execution_count": null,
      "outputs": [
        {
          "output_type": "stream",
          "name": "stdout",
          "text": [
            "Downloading data from https://storage.googleapis.com/tensorflow/keras-applications/mobilenet/mobilenet_1_0_224_tf_no_top.h5\n",
            "17225924/17225924 [==============================] - 0s 0us/step\n"
          ]
        }
      ]
    },
    {
      "cell_type": "code",
      "source": [
        "# Freeze the layers in the base model (optional)\n",
        "for layer in base_model_4.layers:\n",
        "    layer.trainable = False\n",
        "\n",
        "# Create a new model on top of the MobileNet base\n",
        "model4 = Sequential()\n",
        "model4.add(base_model_4)\n",
        "model4.add(Flatten())\n",
        "model4.add(Dense(512, activation='relu'))\n",
        "model4.add(Dropout(0.3))\n",
        "model4.add(Dense(128,activation='relu'))\n",
        "model4.add(Dense(64,activation='relu'))\n",
        "model4.add(Dense(1, activation='sigmoid'))\n",
        "\n",
        "# Compile the model\n",
        "model4.compile(optimizer=Adam(), loss='binary_crossentropy', metrics=['accuracy'])\n",
        "\n",
        "model4.summary()\n"
      ],
      "metadata": {
        "colab": {
          "base_uri": "https://localhost:8080/"
        },
        "id": "X-1wkW7DrPV1",
        "outputId": "d521fbbc-8d9a-46ec-a52a-ef091e921a1f"
      },
      "execution_count": null,
      "outputs": [
        {
          "output_type": "stream",
          "name": "stdout",
          "text": [
            "Model: \"sequential_1\"\n",
            "_________________________________________________________________\n",
            " Layer (type)                Output Shape              Param #   \n",
            "=================================================================\n",
            " mobilenet_1.00_224 (Functi  (None, 7, 7, 1024)        3228864   \n",
            " onal)                                                           \n",
            "                                                                 \n",
            " flatten_1 (Flatten)         (None, 50176)             0         \n",
            "                                                                 \n",
            " dense_2 (Dense)             (None, 512)               25690624  \n",
            "                                                                 \n",
            " dropout_4 (Dropout)         (None, 512)               0         \n",
            "                                                                 \n",
            " dense_3 (Dense)             (None, 128)               65664     \n",
            "                                                                 \n",
            " dense_4 (Dense)             (None, 64)                8256      \n",
            "                                                                 \n",
            " dense_5 (Dense)             (None, 1)                 65        \n",
            "                                                                 \n",
            "=================================================================\n",
            "Total params: 28993473 (110.60 MB)\n",
            "Trainable params: 25764609 (98.28 MB)\n",
            "Non-trainable params: 3228864 (12.32 MB)\n",
            "_________________________________________________________________\n"
          ]
        }
      ]
    },
    {
      "cell_type": "code",
      "source": [
        "# Fit the model with validation data\n",
        "history = model4.fit(\n",
        "    X_train,\n",
        "    y_train,\n",
        "    epochs=10,\n",
        "    batch_size=32,\n",
        "    validation_data=(X_val, y_val)\n",
        ")"
      ],
      "metadata": {
        "id": "R_Js-b2YrgJo",
        "colab": {
          "base_uri": "https://localhost:8080/"
        },
        "outputId": "f53d56a8-f5e6-40dc-a69c-82d79341e652"
      },
      "execution_count": null,
      "outputs": [
        {
          "output_type": "stream",
          "name": "stdout",
          "text": [
            "Epoch 1/10\n",
            "37/37 [==============================] - 10s 126ms/step - loss: 3.1342 - accuracy: 0.7091 - val_loss: 0.4427 - val_accuracy: 0.9169\n",
            "Epoch 2/10\n",
            "37/37 [==============================] - 2s 63ms/step - loss: 0.6364 - accuracy: 0.8883 - val_loss: 0.1991 - val_accuracy: 0.9532\n",
            "Epoch 3/10\n",
            "37/37 [==============================] - 2s 57ms/step - loss: 0.1874 - accuracy: 0.9558 - val_loss: 0.2325 - val_accuracy: 0.9558\n",
            "Epoch 4/10\n",
            "37/37 [==============================] - 2s 57ms/step - loss: 0.0822 - accuracy: 0.9801 - val_loss: 0.1315 - val_accuracy: 0.9636\n",
            "Epoch 5/10\n",
            "37/37 [==============================] - 2s 62ms/step - loss: 0.0338 - accuracy: 0.9913 - val_loss: 0.2271 - val_accuracy: 0.9532\n",
            "Epoch 6/10\n",
            "37/37 [==============================] - 2s 64ms/step - loss: 0.0278 - accuracy: 0.9913 - val_loss: 0.1909 - val_accuracy: 0.9506\n",
            "Epoch 7/10\n",
            "37/37 [==============================] - 2s 68ms/step - loss: 0.0138 - accuracy: 0.9939 - val_loss: 0.1196 - val_accuracy: 0.9766\n",
            "Epoch 8/10\n",
            "37/37 [==============================] - 2s 65ms/step - loss: 0.0115 - accuracy: 0.9957 - val_loss: 0.1154 - val_accuracy: 0.9818\n",
            "Epoch 9/10\n",
            "37/37 [==============================] - 2s 57ms/step - loss: 0.0065 - accuracy: 0.9974 - val_loss: 0.1123 - val_accuracy: 0.9688\n",
            "Epoch 10/10\n",
            "37/37 [==============================] - 2s 67ms/step - loss: 0.0104 - accuracy: 0.9957 - val_loss: 0.1786 - val_accuracy: 0.9610\n"
          ]
        }
      ]
    },
    {
      "cell_type": "code",
      "source": [
        "# Evaluate the model on the test set\n",
        "test_loss4, test_accuracy4 = model4.evaluate(X_test, y_test)"
      ],
      "metadata": {
        "colab": {
          "base_uri": "https://localhost:8080/"
        },
        "id": "P_nZuWQhrk1c",
        "outputId": "0919190e-cb1f-46dc-c679-ea97cd888137"
      },
      "execution_count": null,
      "outputs": [
        {
          "output_type": "stream",
          "name": "stdout",
          "text": [
            "13/13 [==============================] - 1s 112ms/step - loss: 0.1950 - accuracy: 0.9456\n"
          ]
        }
      ]
    },
    {
      "cell_type": "code",
      "source": [
        "print(f\"Test Loss: {test_loss4}\")\n",
        "print(f\"Test Accuracy: {test_accuracy4}\")"
      ],
      "metadata": {
        "colab": {
          "base_uri": "https://localhost:8080/"
        },
        "id": "Rd6ZkbwIrr57",
        "outputId": "1009a014-fccd-4c17-c40f-ec67c7c5d0a4"
      },
      "execution_count": null,
      "outputs": [
        {
          "output_type": "stream",
          "name": "stdout",
          "text": [
            "Test Loss: 0.19495955109596252\n",
            "Test Accuracy: 0.9455958604812622\n"
          ]
        }
      ]
    },
    {
      "cell_type": "code",
      "source": [
        "# Load and preprocess the image\n",
        "def preprocess_image(image_path):\n",
        "    img = cv2.imread(image_path)\n",
        "    cropped_img = crop_img(img)\n",
        "    resized_img = cv2.resize(cropped_img, (224, 224))\n",
        "    normalized_img = resized_img / 255.0  # Normalize to [0, 1] range\n",
        "    return normalized_img\n",
        "\n",
        "# Function to classify the image\n",
        "def classify_image(image_path):\n",
        "    preprocessed_img = preprocess_image(image_path)\n",
        "    input_img = np.expand_dims(preprocessed_img, axis=0)  # Add batch dimension\n",
        "    prediction = model4.predict(input_img)\n",
        "    if prediction[0] < 0.5:\n",
        "        print(prediction)\n",
        "        return 'tumor'\n",
        "    else:\n",
        "        print(prediction)\n",
        "        return 'normal'\n"
      ],
      "metadata": {
        "id": "aUptOhSLtNNV"
      },
      "execution_count": null,
      "outputs": []
    },
    {
      "cell_type": "code",
      "source": [
        "img1 = '/content/Y1.jpg'\n",
        "result = classify_image(img1)\n",
        "print(f\"The image is classified as: {result}\")"
      ],
      "metadata": {
        "colab": {
          "base_uri": "https://localhost:8080/"
        },
        "id": "gC8yz_SOtwFN",
        "outputId": "871d8410-b463-47a1-c484-68691277b812"
      },
      "execution_count": null,
      "outputs": [
        {
          "output_type": "stream",
          "name": "stdout",
          "text": [
            "1/1 [==============================] - 1s 938ms/step\n",
            "[[2.5784414e-12]]\n",
            "The image is classified as: tumor\n"
          ]
        }
      ]
    },
    {
      "cell_type": "code",
      "source": [
        "img2 ='/content/Te-no_0017.jpg'\n",
        "result = classify_image(img2)\n",
        "print(f\"The image is classified as: {result}\")"
      ],
      "metadata": {
        "colab": {
          "base_uri": "https://localhost:8080/"
        },
        "id": "KsROzXQbtw5Y",
        "outputId": "86389fee-4863-4a81-ecab-86c18fe9ea4f"
      },
      "execution_count": null,
      "outputs": [
        {
          "output_type": "stream",
          "name": "stdout",
          "text": [
            "1/1 [==============================] - 0s 45ms/step\n",
            "[[0.58457893]]\n",
            "The image is classified as: normal\n"
          ]
        }
      ]
    },
    {
      "cell_type": "markdown",
      "source": [
        "# Sequential model with DenseNet121 Base"
      ],
      "metadata": {
        "id": "4u9eMal5wa5J"
      }
    },
    {
      "cell_type": "code",
      "source": [
        "from keras.applications.densenet import DenseNet121\n",
        "\n",
        "densmodel= DenseNet121(weights='imagenet', include_top=False, input_shape = (224,224,3))\n",
        "\n",
        "base_model_5 = densmodel"
      ],
      "metadata": {
        "id": "DfbV0sRgvaHO"
      },
      "execution_count": null,
      "outputs": []
    },
    {
      "cell_type": "code",
      "source": [
        "# Freeze the layers in the base model (optional)\n",
        "for layer in base_model_5.layers:\n",
        "    layer.trainable = False\n",
        "\n",
        "# Create a new model on top of the DenseNet base\n",
        "model5 = Sequential()\n",
        "model5.add(base_model_5)\n",
        "model5.add(Flatten())\n",
        "model5.add(Dense(512, activation='relu'))\n",
        "model5.add(Dropout(0.3))\n",
        "model5.add(Dense(128,activation='relu'))\n",
        "model5.add(Dense(64,activation='relu'))\n",
        "model5.add(Dense(1, activation='sigmoid'))\n",
        "\n",
        "# Compile the model\n",
        "model5.compile(optimizer=Adam(), loss='binary_crossentropy', metrics=['accuracy'])\n",
        "\n",
        "model5.summary()"
      ],
      "metadata": {
        "colab": {
          "base_uri": "https://localhost:8080/"
        },
        "id": "Mv4KxIWfvolL",
        "outputId": "4c9929af-0617-4627-f51d-62319dbd5b60"
      },
      "execution_count": null,
      "outputs": [
        {
          "output_type": "stream",
          "name": "stdout",
          "text": [
            "Model: \"sequential\"\n",
            "_________________________________________________________________\n",
            " Layer (type)                Output Shape              Param #   \n",
            "=================================================================\n",
            " densenet121 (Functional)    (None, 7, 7, 1024)        7037504   \n",
            "                                                                 \n",
            " flatten (Flatten)           (None, 50176)             0         \n",
            "                                                                 \n",
            " dense (Dense)               (None, 512)               25690624  \n",
            "                                                                 \n",
            " dropout (Dropout)           (None, 512)               0         \n",
            "                                                                 \n",
            " dense_1 (Dense)             (None, 128)               65664     \n",
            "                                                                 \n",
            " dense_2 (Dense)             (None, 64)                8256      \n",
            "                                                                 \n",
            " dense_3 (Dense)             (None, 1)                 65        \n",
            "                                                                 \n",
            "=================================================================\n",
            "Total params: 32802113 (125.13 MB)\n",
            "Trainable params: 25764609 (98.28 MB)\n",
            "Non-trainable params: 7037504 (26.85 MB)\n",
            "_________________________________________________________________\n"
          ]
        }
      ]
    },
    {
      "cell_type": "code",
      "source": [
        "# Fit the model with validation data\n",
        "history5 = model5.fit(\n",
        "    X_train,\n",
        "    y_train,\n",
        "    epochs=10,\n",
        "    batch_size=32,\n",
        "    validation_data=(X_val, y_val)\n",
        ")\n"
      ],
      "metadata": {
        "colab": {
          "base_uri": "https://localhost:8080/"
        },
        "id": "7kQo6ZQ9v6gv",
        "outputId": "e9de9228-33ce-4a11-f4e9-031ab1c8fb2c"
      },
      "execution_count": null,
      "outputs": [
        {
          "output_type": "stream",
          "name": "stdout",
          "text": [
            "Epoch 1/10\n",
            "37/37 [==============================] - 30s 398ms/step - loss: 2.8361 - accuracy: 0.6575 - val_loss: 0.5878 - val_accuracy: 0.8252\n",
            "Epoch 2/10\n",
            "37/37 [==============================] - 5s 133ms/step - loss: 0.6182 - accuracy: 0.8403 - val_loss: 0.2708 - val_accuracy: 0.8895\n",
            "Epoch 3/10\n",
            "37/37 [==============================] - 5s 134ms/step - loss: 0.3915 - accuracy: 0.8755 - val_loss: 0.2733 - val_accuracy: 0.8895\n",
            "Epoch 4/10\n",
            "37/37 [==============================] - 5s 135ms/step - loss: 0.2116 - accuracy: 0.9167 - val_loss: 0.1747 - val_accuracy: 0.9306\n",
            "Epoch 5/10\n",
            "37/37 [==============================] - 5s 144ms/step - loss: 0.1442 - accuracy: 0.9399 - val_loss: 0.2181 - val_accuracy: 0.9177\n",
            "Epoch 6/10\n",
            "37/37 [==============================] - 7s 193ms/step - loss: 0.0989 - accuracy: 0.9665 - val_loss: 0.1424 - val_accuracy: 0.9280\n",
            "Epoch 7/10\n",
            "37/37 [==============================] - 5s 136ms/step - loss: 0.0772 - accuracy: 0.9751 - val_loss: 0.1940 - val_accuracy: 0.9280\n",
            "Epoch 8/10\n",
            "37/37 [==============================] - 5s 134ms/step - loss: 0.0498 - accuracy: 0.9828 - val_loss: 0.1182 - val_accuracy: 0.9434\n",
            "Epoch 9/10\n",
            "37/37 [==============================] - 5s 140ms/step - loss: 0.0244 - accuracy: 0.9931 - val_loss: 0.1550 - val_accuracy: 0.9383\n",
            "Epoch 10/10\n",
            "37/37 [==============================] - 5s 135ms/step - loss: 0.0182 - accuracy: 0.9923 - val_loss: 0.0951 - val_accuracy: 0.9640\n"
          ]
        }
      ]
    },
    {
      "cell_type": "code",
      "source": [
        "# Evaluate the model on the test set\n",
        "test_loss5, test_accuracy5 = model5.evaluate(X_test, y_test)\n",
        "\n",
        "print(f\"Test Loss: {test_loss5}\")\n",
        "print(f\"Test Accuracy: {test_accuracy5}\")"
      ],
      "metadata": {
        "colab": {
          "base_uri": "https://localhost:8080/"
        },
        "id": "UUP_cZCUv_y9",
        "outputId": "0c4570d3-e24f-44e2-b23a-c4a3e877b00a"
      },
      "execution_count": null,
      "outputs": [
        {
          "output_type": "stream",
          "name": "stdout",
          "text": [
            "13/13 [==============================] - 1s 94ms/step - loss: 0.1214 - accuracy: 0.9640\n",
            "Test Loss: 0.12141220271587372\n",
            "Test Accuracy: 0.9640102982521057\n"
          ]
        }
      ]
    },
    {
      "cell_type": "code",
      "source": [
        "# Load and preprocess the image\n",
        "def preprocess_image(image_path):\n",
        "    img = cv2.imread(image_path)\n",
        "    cropped_img = crop_img(img)\n",
        "    resized_img = cv2.resize(cropped_img, (224, 224))\n",
        "    normalized_img = resized_img / 255.0  # Normalize to [0, 1] range\n",
        "    return normalized_img\n",
        "\n",
        "# Function to classify the image\n",
        "def classify_image(image_path):\n",
        "    preprocessed_img = preprocess_image(image_path)\n",
        "    input_img = np.expand_dims(preprocessed_img, axis=0)  # Add batch dimension\n",
        "    prediction = model5.predict(input_img)\n",
        "    if prediction[0] < 0.5:\n",
        "        print(prediction)\n",
        "        return 'tumor'\n",
        "    else:\n",
        "        print(prediction)\n",
        "        return 'normal'"
      ],
      "metadata": {
        "id": "M2-Q4v97wGxh"
      },
      "execution_count": null,
      "outputs": []
    },
    {
      "cell_type": "code",
      "source": [
        "img1 = '/content/Y1.jpg'\n",
        "result = classify_image(img1)\n",
        "print(f\"The image is classified as: {result}\")"
      ],
      "metadata": {
        "colab": {
          "base_uri": "https://localhost:8080/"
        },
        "id": "6lM8dtxCwOCy",
        "outputId": "2f067823-5319-4a2b-cdeb-ac4eecee4902"
      },
      "execution_count": null,
      "outputs": [
        {
          "output_type": "stream",
          "name": "stdout",
          "text": [
            "1/1 [==============================] - 4s 4s/step\n",
            "[[5.293991e-07]]\n",
            "The image is classified as: tumor\n"
          ]
        }
      ]
    },
    {
      "cell_type": "code",
      "source": [
        "img2 ='/content/Te-no_0017.jpg'\n",
        "result = classify_image(img2)\n",
        "print(f\"The image is classified as: {result}\")"
      ],
      "metadata": {
        "colab": {
          "base_uri": "https://localhost:8080/"
        },
        "id": "ytZtJwmswUZV",
        "outputId": "65fe2d66-d858-453b-e4b1-4daa88d739d9"
      },
      "execution_count": null,
      "outputs": [
        {
          "output_type": "stream",
          "name": "stdout",
          "text": [
            "1/1 [==============================] - 0s 34ms/step\n",
            "[[0.97611517]]\n",
            "The image is classified as: normal\n"
          ]
        }
      ]
    }
  ]
}